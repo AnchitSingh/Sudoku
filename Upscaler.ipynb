{
 "cells": [
  {
   "cell_type": "code",
   "execution_count": 4,
   "id": "a103cc22",
   "metadata": {},
   "outputs": [],
   "source": [
    "from PIL import Image\n",
    "import numpy as np\n",
    "import os\n",
    "import cv2\n",
    "import matplotlib.pyplot as plt\n",
    "import time\n",
    "import io\n",
    "\n",
    "def resizer(fin):\n",
    "    with open(fin, 'r') as file :\n",
    "        filedata = file.read()\n",
    "    filedata = filedata.replace('width=\"300.000000pt\" height=\"300.000000pt\"', 'width=\"1200.000000pt\" height=\"1200.000000pt\"')\n",
    "    with open(fin, 'w') as file:\n",
    "        file.write(filedata)"
   ]
  },
  {
   "cell_type": "code",
   "execution_count": 5,
   "id": "be90e5ba",
   "metadata": {},
   "outputs": [],
   "source": [
    "# start = time.time()\n",
    "\n",
    "# image = cv2.imread('0000.png')\n",
    "# img_gray = cv2.cvtColor(image, cv2.COLOR_BGR2GRAY)\n",
    "# ret, thresh = cv2.threshold(img_gray, 150, 255, cv2.THRESH_BINARY)\n",
    "# thresh=thresh\n",
    "# cv2.imwrite('000_1.png', thresh)\n",
    "# cv2.destroyAllWindows()\n",
    "\n",
    "# img1 = Image.open('000_1.png')\n",
    "# file_out = \"000_2.bmp\"\n",
    "# img1.save(file_out)\n",
    "\n",
    "# os.system('potrace 000_2.bmp --svg -o 000_3.svg')\n",
    "# os.system('cairosvg 000_3.svg -o 000_4.png')\n",
    "# end = time.time()\n",
    "# print(end - start)\n"
   ]
  },
  {
   "cell_type": "code",
   "execution_count": 6,
   "id": "3da06b58",
   "metadata": {},
   "outputs": [
    {
     "name": "stdout",
     "output_type": "stream",
     "text": [
      "0.5052294731140137\n"
     ]
    }
   ],
   "source": [
    "start = time.time()\n",
    "\n",
    "image = cv2.imread('0000.png')\n",
    "img_gray = cv2.cvtColor(image, cv2.COLOR_BGR2GRAY)\n",
    "ret, thresh = cv2.threshold(img_gray, 150, 255, cv2.THRESH_BINARY)\n",
    "thresh=thresh\n",
    "con = cv2.imencode('.png', thresh)[1].tobytes()\n",
    "\n",
    "img1 = Image.open(io.BytesIO(con))\n",
    "file_out = \"000_2.bmp\"\n",
    "img1.save(file_out)\n",
    "\n",
    "os.system('potrace 000_2.bmp --svg -o 000_3.svg')\n",
    "resizer('000_3.svg')\n",
    "os.system('cairosvg 000_3.svg -o 000_4.png')\n",
    "end = time.time()\n",
    "print(end - start)\n"
   ]
  },
  {
   "cell_type": "code",
   "execution_count": null,
   "id": "5ac340cf",
   "metadata": {},
   "outputs": [],
   "source": []
  }
 ],
 "metadata": {
  "kernelspec": {
   "display_name": "Python 3 (ipykernel)",
   "language": "python",
   "name": "python3"
  },
  "language_info": {
   "codemirror_mode": {
    "name": "ipython",
    "version": 3
   },
   "file_extension": ".py",
   "mimetype": "text/x-python",
   "name": "python",
   "nbconvert_exporter": "python",
   "pygments_lexer": "ipython3",
   "version": "3.9.7"
  }
 },
 "nbformat": 4,
 "nbformat_minor": 5
}
